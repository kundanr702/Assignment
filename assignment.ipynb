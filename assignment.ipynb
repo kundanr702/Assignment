{
 "cells": [
  {
   "cell_type": "raw",
   "id": "87457125-85e8-4f2a-8c20-9b28fb38ab0d",
   "metadata": {},
   "source": [
    "Q1. Create one variable containing following type of data:\n",
    "(i) string\n",
    "(ii) list\n",
    "(iii) float\n",
    "(iv) tuple"
   ]
  },
  {
   "cell_type": "code",
   "execution_count": 2,
   "id": "17dceb0f-b755-4fa8-a924-add0c81a2bb4",
   "metadata": {},
   "outputs": [],
   "source": [
    "l=['Kundan',[1,2,3,4,5],50.78,(1,2)]"
   ]
  },
  {
   "cell_type": "raw",
   "id": "497e2dca-ff9f-45ed-b168-321c619b84d4",
   "metadata": {},
   "source": [
    "Q2. Given are some following variables containing data:\n",
    "(i) var1 = ‘ ‘\n",
    "(ii) var2 = ‘[ DS , ML , Python]’\n",
    "(iii) var3 = [ ‘DS’ , ’ML’ , ‘Python’ ]\n",
    "(iv) var4 = 1.\n",
    "What will be the data type of the above given variable."
   ]
  },
  {
   "cell_type": "raw",
   "id": "0a80b78a-22a0-4e91-9124-22809a006675",
   "metadata": {},
   "source": [
    "Ans:\n",
    "1> Data type of Var1 is string.\n",
    "2> Data type of Var2 is string.\n",
    "3> Data type of Var3 is list.\n",
    "4> Data type of Var4 is integer."
   ]
  },
  {
   "cell_type": "raw",
   "id": "64b68cd1-dcc6-4dfc-b916-bca99c467e87",
   "metadata": {},
   "source": [
    "Q3. Explain the use of the following operators using an example:\n",
    "(i) /\n",
    "(ii) %\n",
    "(iii) //\n",
    "(iv) **"
   ]
  },
  {
   "cell_type": "raw",
   "id": "338d745e-fab2-4499-9a11-78a92fe8ea1b",
   "metadata": {},
   "source": [
    "Ans:\n",
    "1> Single forward slash is one of the arithmetic operator in python programming language. When we put forward slash between two numeric integer it perform division. For example 10 / 2 = 5.0\n",
    "2> Percentage symbol is named as moduls operator in python programming language. when we put moduls between two numeric integer it perform division and give us reminder as output. For example 10 % 2 = 0\n",
    "3> Double forward slash is named as floor division in python programming language. when we execute floor division between two numbers it perform division and convert its quotient into nearest whole number and give us as output.\n",
    "4> Double astrik is on of the arithmetic operator in python which is named as exponentiation operator and also known as power operator when we put it between tow numbers it perfom multiplication of first number to itself for number of times of second number. For example 10 ** 3 = 1000.  "
   ]
  },
  {
   "cell_type": "raw",
   "id": "8fb85c0a-e447-4a40-9142-f23f18343fd1",
   "metadata": {},
   "source": [
    "Q4. Create a list of length 10 of your choice containing multiple types of data. Using for loop print the\n",
    "element and its data type."
   ]
  },
  {
   "cell_type": "code",
   "execution_count": 1,
   "id": "9923b6ff-c536-4dba-b2ee-8acdbf3ef037",
   "metadata": {},
   "outputs": [
    {
     "name": "stdout",
     "output_type": "stream",
     "text": [
      "Kundan\n",
      "<class 'str'>\n",
      "[1, 2, 3, 4, 5]\n",
      "<class 'list'>\n",
      "50.78\n",
      "<class 'float'>\n",
      "(1, 2)\n",
      "<class 'tuple'>\n",
      "1\n",
      "<class 'int'>\n",
      "2\n",
      "<class 'int'>\n",
      "4.5\n",
      "<class 'float'>\n",
      "K\n",
      "<class 'str'>\n",
      "0\n",
      "<class 'int'>\n"
     ]
    }
   ],
   "source": [
    "l=['Kundan',[1,2,3,4,5],50.78,(1,2),1,2,4.5,'K',0]\n",
    "for i in l:\n",
    "    print(i)\n",
    "    print(type(i))"
   ]
  },
  {
   "cell_type": "raw",
   "id": "d09e03d3-82d4-4e1f-9ce3-5184b5bc536c",
   "metadata": {},
   "source": [
    "Q5. Using a while loop, verify if the number A is purely divisible by number B and if so then how many\n",
    "times it can be divisible."
   ]
  },
  {
   "cell_type": "code",
   "execution_count": 4,
   "id": "347b8c85-80e4-44b5-842c-5fd750c3f6f7",
   "metadata": {},
   "outputs": [
    {
     "name": "stdout",
     "output_type": "stream",
     "text": [
      "a is divisibel by b and can be divided 2 times.\n"
     ]
    }
   ],
   "source": [
    "a=100\n",
    "b=2\n",
    "count=0\n",
    "while a  % b == 0:\n",
    "    a /= b\n",
    "    count += 1\n",
    "if count > 0:\n",
    "    print(f'a is divisibel by b and can be divided {count} times.')\n",
    "else:\n",
    "    print('a is not divisible by b') "
   ]
  },
  {
   "cell_type": "markdown",
   "id": "b0bf9b84-62d0-44b9-ac5f-1f4d2b356fd3",
   "metadata": {},
   "source": [
    "Q5. Create a list containing 25 int type data. Using for loop and if-else condition print if the element is\n",
    "divisible by 3 or not."
   ]
  },
  {
   "cell_type": "code",
   "execution_count": 5,
   "id": "c2aededd-3317-45e9-81d3-5b14c5fdb9ef",
   "metadata": {},
   "outputs": [
    {
     "name": "stdout",
     "output_type": "stream",
     "text": [
      "{1}  is not divisible by 3\n",
      "{2}  is not divisible by 3\n",
      "{3}  is divisible by 3\n",
      "{4}  is not divisible by 3\n",
      "{5}  is not divisible by 3\n",
      "{6}  is divisible by 3\n",
      "{7}  is not divisible by 3\n",
      "{8}  is not divisible by 3\n",
      "{9}  is divisible by 3\n",
      "{10}  is not divisible by 3\n",
      "{11}  is not divisible by 3\n",
      "{12}  is divisible by 3\n",
      "{13}  is not divisible by 3\n",
      "{14}  is not divisible by 3\n",
      "{15}  is divisible by 3\n",
      "{16}  is not divisible by 3\n",
      "{17}  is not divisible by 3\n",
      "{18}  is divisible by 3\n",
      "{19}  is not divisible by 3\n",
      "{20}  is not divisible by 3\n",
      "{21}  is divisible by 3\n",
      "{22}  is not divisible by 3\n",
      "{23}  is not divisible by 3\n",
      "{24}  is divisible by 3\n",
      "{25}  is not divisible by 3\n"
     ]
    }
   ],
   "source": [
    "l=[1,2,3,4,5,6,7,8,9,10,11,12,13,14,15,16,17,18,19,20,21,22,23,24,25]\n",
    "for i in l:\n",
    "    if i%3==0:\n",
    "        print({i},' is divisible by 3')\n",
    "    else:\n",
    "        print({i},' is not divisible by 3')"
   ]
  },
  {
   "cell_type": "markdown",
   "id": "311d88ef-f5e8-49da-9c76-16544317498a",
   "metadata": {},
   "source": [
    "Q7. What do you understand about mutable and immutable data types? Give examples for both showing\n",
    "this property."
   ]
  },
  {
   "cell_type": "markdown",
   "id": "cdefc793-fdfe-44ab-ae7a-4bc91145f7df",
   "metadata": {},
   "source": [
    "Ans:\n",
    "A datatype that allow to change their value after declare is called mutable for example list data type and an object that doesn't allow to change their value after declare is called immutable for example string data type.\n"
   ]
  },
  {
   "cell_type": "code",
   "execution_count": 8,
   "id": "b5b60212-3e6f-4f09-a146-a4055c3e84f5",
   "metadata": {},
   "outputs": [
    {
     "name": "stdout",
     "output_type": "stream",
     "text": [
      "[range(0, 10)]\n"
     ]
    }
   ],
   "source": [
    "#Example for mutable.\n",
    "l=[1,2,3,4,5,6,7,8,9]\n",
    "l[0]=0 ## This modifies the first element of the list to have a value of 0"
   ]
  },
  {
   "cell_type": "code",
   "execution_count": null,
   "id": "d16264a4-7c93-4cdb-915e-8b35abaad981",
   "metadata": {},
   "outputs": [],
   "source": [
    "#Example for immutable\n",
    "my_str='Kundan'\n",
    "my_str[0]='M' # this will result in a TypeError since strings are immutable."
   ]
  }
 ],
 "metadata": {
  "kernelspec": {
   "display_name": "Python 3 (ipykernel)",
   "language": "python",
   "name": "python3"
  },
  "language_info": {
   "codemirror_mode": {
    "name": "ipython",
    "version": 3
   },
   "file_extension": ".py",
   "mimetype": "text/x-python",
   "name": "python",
   "nbconvert_exporter": "python",
   "pygments_lexer": "ipython3",
   "version": "3.10.8"
  }
 },
 "nbformat": 4,
 "nbformat_minor": 5
}
